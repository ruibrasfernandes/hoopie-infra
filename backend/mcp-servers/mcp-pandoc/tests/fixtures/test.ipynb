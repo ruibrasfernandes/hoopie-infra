{
 "cells": [
  {
   "cell_type": "markdown",
   "metadata": {},
   "source": [
    "# Test"
   ],
   "id": "78c33849-1ed2-4436-bebe-8a5007bc04fa"
  }
 ],
 "nbformat": 4,
 "nbformat_minor": 5,
 "metadata": {}
}
